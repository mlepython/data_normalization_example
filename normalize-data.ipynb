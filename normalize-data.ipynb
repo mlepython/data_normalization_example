{
 "cells": [
  {
   "cell_type": "code",
   "execution_count": 1,
   "id": "72f69fee",
   "metadata": {
    "_cell_guid": "b1076dfc-b9ad-4769-8c92-a6c4dae69d19",
    "_uuid": "8f2839f25d086af736a60e9eeb907d3b93b6e0e5",
    "execution": {
     "iopub.execute_input": "2024-03-23T22:15:02.033785Z",
     "iopub.status.busy": "2024-03-23T22:15:02.033396Z",
     "iopub.status.idle": "2024-03-23T22:15:03.052050Z",
     "shell.execute_reply": "2024-03-23T22:15:03.050676Z"
    },
    "papermill": {
     "duration": 1.03512,
     "end_time": "2024-03-23T22:15:03.054664",
     "exception": false,
     "start_time": "2024-03-23T22:15:02.019544",
     "status": "completed"
    },
    "tags": []
   },
   "outputs": [
    {
     "name": "stdout",
     "output_type": "stream",
     "text": [
      "/kaggle/input/sample-sales-data/sales_data_sample.csv\n"
     ]
    }
   ],
   "source": [
    "# This Python 3 environment comes with many helpful analytics libraries installed\n",
    "# It is defined by the kaggle/python Docker image: https://github.com/kaggle/docker-python\n",
    "# For example, here's several helpful packages to load\n",
    "\n",
    "import numpy as np # linear algebra\n",
    "import pandas as pd # data processing, CSV file I/O (e.g. pd.read_csv)\n",
    "\n",
    "# Input data files are available in the read-only \"../input/\" directory\n",
    "# For example, running this (by clicking run or pressing Shift+Enter) will list all files under the input directory\n",
    "\n",
    "import os\n",
    "for dirname, _, filenames in os.walk('/kaggle/input'):\n",
    "    for filename in filenames:\n",
    "        print(os.path.join(dirname, filename))\n",
    "\n",
    "# You can write up to 20GB to the current directory (/kaggle/working/) that gets preserved as output when you create a version using \"Save & Run All\" \n",
    "# You can also write temporary files to /kaggle/temp/, but they won't be saved outside of the current session"
   ]
  },
  {
   "cell_type": "code",
   "execution_count": 2,
   "id": "b0a6e49f",
   "metadata": {
    "execution": {
     "iopub.execute_input": "2024-03-23T22:15:03.077383Z",
     "iopub.status.busy": "2024-03-23T22:15:03.076792Z",
     "iopub.status.idle": "2024-03-23T22:15:03.122915Z",
     "shell.execute_reply": "2024-03-23T22:15:03.121627Z"
    },
    "papermill": {
     "duration": 0.060692,
     "end_time": "2024-03-23T22:15:03.125735",
     "exception": false,
     "start_time": "2024-03-23T22:15:03.065043",
     "status": "completed"
    },
    "tags": []
   },
   "outputs": [],
   "source": [
    "filepath = \"/kaggle/input/sample-sales-data/sales_data_sample.csv\"\n",
    "df = pd.read_csv(filepath, encoding='ISO-8859-1')"
   ]
  },
  {
   "cell_type": "code",
   "execution_count": 3,
   "id": "c6688b0f",
   "metadata": {
    "execution": {
     "iopub.execute_input": "2024-03-23T22:15:03.148909Z",
     "iopub.status.busy": "2024-03-23T22:15:03.147713Z",
     "iopub.status.idle": "2024-03-23T22:15:03.185529Z",
     "shell.execute_reply": "2024-03-23T22:15:03.184350Z"
    },
    "papermill": {
     "duration": 0.052008,
     "end_time": "2024-03-23T22:15:03.188234",
     "exception": false,
     "start_time": "2024-03-23T22:15:03.136226",
     "status": "completed"
    },
    "tags": []
   },
   "outputs": [
    {
     "name": "stdout",
     "output_type": "stream",
     "text": [
      "<class 'pandas.core.frame.DataFrame'>\n",
      "RangeIndex: 2823 entries, 0 to 2822\n",
      "Data columns (total 25 columns):\n",
      " #   Column            Non-Null Count  Dtype  \n",
      "---  ------            --------------  -----  \n",
      " 0   ORDERNUMBER       2823 non-null   int64  \n",
      " 1   QUANTITYORDERED   2823 non-null   int64  \n",
      " 2   PRICEEACH         2823 non-null   float64\n",
      " 3   ORDERLINENUMBER   2823 non-null   int64  \n",
      " 4   SALES             2823 non-null   float64\n",
      " 5   ORDERDATE         2823 non-null   object \n",
      " 6   STATUS            2823 non-null   object \n",
      " 7   QTR_ID            2823 non-null   int64  \n",
      " 8   MONTH_ID          2823 non-null   int64  \n",
      " 9   YEAR_ID           2823 non-null   int64  \n",
      " 10  PRODUCTLINE       2823 non-null   object \n",
      " 11  MSRP              2823 non-null   int64  \n",
      " 12  PRODUCTCODE       2823 non-null   object \n",
      " 13  CUSTOMERNAME      2823 non-null   object \n",
      " 14  PHONE             2823 non-null   object \n",
      " 15  ADDRESSLINE1      2823 non-null   object \n",
      " 16  ADDRESSLINE2      302 non-null    object \n",
      " 17  CITY              2823 non-null   object \n",
      " 18  STATE             1337 non-null   object \n",
      " 19  POSTALCODE        2747 non-null   object \n",
      " 20  COUNTRY           2823 non-null   object \n",
      " 21  TERRITORY         1749 non-null   object \n",
      " 22  CONTACTLASTNAME   2823 non-null   object \n",
      " 23  CONTACTFIRSTNAME  2823 non-null   object \n",
      " 24  DEALSIZE          2823 non-null   object \n",
      "dtypes: float64(2), int64(7), object(16)\n",
      "memory usage: 551.5+ KB\n"
     ]
    }
   ],
   "source": [
    "df.info()"
   ]
  },
  {
   "cell_type": "code",
   "execution_count": 4,
   "id": "3314a784",
   "metadata": {
    "execution": {
     "iopub.execute_input": "2024-03-23T22:15:03.211639Z",
     "iopub.status.busy": "2024-03-23T22:15:03.210517Z",
     "iopub.status.idle": "2024-03-23T22:15:03.301632Z",
     "shell.execute_reply": "2024-03-23T22:15:03.300388Z"
    },
    "papermill": {
     "duration": 0.105882,
     "end_time": "2024-03-23T22:15:03.304603",
     "exception": false,
     "start_time": "2024-03-23T22:15:03.198721",
     "status": "completed"
    },
    "tags": []
   },
   "outputs": [],
   "source": [
    "def simplify_address(row):\n",
    "    if pd.notnull(row['ADDRESSLINE1']) and pd.notnull(row['ADDRESSLINE2']):\n",
    "        return f\"{row['ADDRESSLINE1']}, {row['ADDRESSLINE1']}\"\n",
    "    else:\n",
    "        return row['ADDRESSLINE1']\n",
    "\n",
    "# Apply the function to create a new merged column\n",
    "df['ADDRESS'] = df.apply(simplify_address, axis=1)\n",
    "df = df.drop(['ADDRESSLINE1', 'ADDRESSLINE2'], axis=1)"
   ]
  },
  {
   "cell_type": "code",
   "execution_count": 5,
   "id": "ade79d7b",
   "metadata": {
    "execution": {
     "iopub.execute_input": "2024-03-23T22:15:03.327734Z",
     "iopub.status.busy": "2024-03-23T22:15:03.327342Z",
     "iopub.status.idle": "2024-03-23T22:15:03.356888Z",
     "shell.execute_reply": "2024-03-23T22:15:03.355760Z"
    },
    "papermill": {
     "duration": 0.044343,
     "end_time": "2024-03-23T22:15:03.359609",
     "exception": false,
     "start_time": "2024-03-23T22:15:03.315266",
     "status": "completed"
    },
    "tags": []
   },
   "outputs": [
    {
     "data": {
      "text/html": [
       "<div>\n",
       "<style scoped>\n",
       "    .dataframe tbody tr th:only-of-type {\n",
       "        vertical-align: middle;\n",
       "    }\n",
       "\n",
       "    .dataframe tbody tr th {\n",
       "        vertical-align: top;\n",
       "    }\n",
       "\n",
       "    .dataframe thead th {\n",
       "        text-align: right;\n",
       "    }\n",
       "</style>\n",
       "<table border=\"1\" class=\"dataframe\">\n",
       "  <thead>\n",
       "    <tr style=\"text-align: right;\">\n",
       "      <th></th>\n",
       "      <th>ORDERNUMBER</th>\n",
       "      <th>QUANTITYORDERED</th>\n",
       "      <th>PRICEEACH</th>\n",
       "      <th>ORDERLINENUMBER</th>\n",
       "      <th>SALES</th>\n",
       "      <th>ORDERDATE</th>\n",
       "      <th>STATUS</th>\n",
       "      <th>CUSTOMERNAME</th>\n",
       "      <th>DEALSIZE</th>\n",
       "    </tr>\n",
       "  </thead>\n",
       "  <tbody>\n",
       "    <tr>\n",
       "      <th>0</th>\n",
       "      <td>10107</td>\n",
       "      <td>30</td>\n",
       "      <td>95.70</td>\n",
       "      <td>2</td>\n",
       "      <td>2871.00</td>\n",
       "      <td>2/24/2003 0:00</td>\n",
       "      <td>Shipped</td>\n",
       "      <td>Land of Toys Inc.</td>\n",
       "      <td>Small</td>\n",
       "    </tr>\n",
       "    <tr>\n",
       "      <th>1</th>\n",
       "      <td>10121</td>\n",
       "      <td>34</td>\n",
       "      <td>81.35</td>\n",
       "      <td>5</td>\n",
       "      <td>2765.90</td>\n",
       "      <td>5/7/2003 0:00</td>\n",
       "      <td>Shipped</td>\n",
       "      <td>Reims Collectables</td>\n",
       "      <td>Small</td>\n",
       "    </tr>\n",
       "    <tr>\n",
       "      <th>2</th>\n",
       "      <td>10134</td>\n",
       "      <td>41</td>\n",
       "      <td>94.74</td>\n",
       "      <td>2</td>\n",
       "      <td>3884.34</td>\n",
       "      <td>7/1/2003 0:00</td>\n",
       "      <td>Shipped</td>\n",
       "      <td>Lyon Souveniers</td>\n",
       "      <td>Medium</td>\n",
       "    </tr>\n",
       "    <tr>\n",
       "      <th>3</th>\n",
       "      <td>10145</td>\n",
       "      <td>45</td>\n",
       "      <td>83.26</td>\n",
       "      <td>6</td>\n",
       "      <td>3746.70</td>\n",
       "      <td>8/25/2003 0:00</td>\n",
       "      <td>Shipped</td>\n",
       "      <td>Toys4GrownUps.com</td>\n",
       "      <td>Medium</td>\n",
       "    </tr>\n",
       "    <tr>\n",
       "      <th>4</th>\n",
       "      <td>10159</td>\n",
       "      <td>49</td>\n",
       "      <td>100.00</td>\n",
       "      <td>14</td>\n",
       "      <td>5205.27</td>\n",
       "      <td>10/10/2003 0:00</td>\n",
       "      <td>Shipped</td>\n",
       "      <td>Corporate Gift Ideas Co.</td>\n",
       "      <td>Medium</td>\n",
       "    </tr>\n",
       "  </tbody>\n",
       "</table>\n",
       "</div>"
      ],
      "text/plain": [
       "   ORDERNUMBER  QUANTITYORDERED  PRICEEACH  ORDERLINENUMBER    SALES  \\\n",
       "0        10107               30      95.70                2  2871.00   \n",
       "1        10121               34      81.35                5  2765.90   \n",
       "2        10134               41      94.74                2  3884.34   \n",
       "3        10145               45      83.26                6  3746.70   \n",
       "4        10159               49     100.00               14  5205.27   \n",
       "\n",
       "         ORDERDATE   STATUS              CUSTOMERNAME DEALSIZE  \n",
       "0   2/24/2003 0:00  Shipped         Land of Toys Inc.    Small  \n",
       "1    5/7/2003 0:00  Shipped        Reims Collectables    Small  \n",
       "2    7/1/2003 0:00  Shipped           Lyon Souveniers   Medium  \n",
       "3   8/25/2003 0:00  Shipped         Toys4GrownUps.com   Medium  \n",
       "4  10/10/2003 0:00  Shipped  Corporate Gift Ideas Co.   Medium  "
      ]
     },
     "execution_count": 5,
     "metadata": {},
     "output_type": "execute_result"
    }
   ],
   "source": [
    "customer_col = ['CUSTOMERNAME', 'PHONE', 'ADDRESS','CONTACTLASTNAME', \"CONTACTFIRSTNAME\", \"CITY\", 'STATE', 'POSTALCODE', 'COUNTRY', 'TERRITORY']\n",
    "product_col = ['PRODUCTCODE', 'PRODUCTLINE', \"MSRP\"]\n",
    "date_col = ['ORDERDATE', 'QTR_ID', 'MONTH_ID', 'YEAR_ID']\n",
    "\n",
    "customer_info = df[customer_col]\n",
    "product_info = df[product_col]\n",
    "date_info = df[date_col]\n",
    "\n",
    "drop_cols = customer_info.columns[1:].to_list() + product_info.columns.to_list() + date_info.columns[1:].to_list()\n",
    "orders = df.drop(drop_cols, axis=1)\n",
    "orders.head()"
   ]
  },
  {
   "cell_type": "markdown",
   "id": "9f0eac2a",
   "metadata": {
    "papermill": {
     "duration": 0.010495,
     "end_time": "2024-03-23T22:15:03.381107",
     "exception": false,
     "start_time": "2024-03-23T22:15:03.370612",
     "status": "completed"
    },
    "tags": []
   },
   "source": [
    "# Calendar Lookup\n",
    "required for time-series analysis with Power BI"
   ]
  },
  {
   "cell_type": "code",
   "execution_count": 6,
   "id": "736e7390",
   "metadata": {
    "execution": {
     "iopub.execute_input": "2024-03-23T22:15:03.405133Z",
     "iopub.status.busy": "2024-03-23T22:15:03.404750Z",
     "iopub.status.idle": "2024-03-23T22:15:03.434002Z",
     "shell.execute_reply": "2024-03-23T22:15:03.432734Z"
    },
    "papermill": {
     "duration": 0.044614,
     "end_time": "2024-03-23T22:15:03.436868",
     "exception": false,
     "start_time": "2024-03-23T22:15:03.392254",
     "status": "completed"
    },
    "tags": []
   },
   "outputs": [],
   "source": [
    "df['ORDERDATE'] = pd.to_datetime(df['ORDERDATE'])\n",
    "\n",
    "# Find the start and end dates\n",
    "start_date = df['ORDERDATE'].min()\n",
    "end_date = df['ORDERDATE'].max()\n",
    "\n",
    "calendar = pd.date_range(start_date, end_date, freq='D')\n",
    "\n",
    "calendar = pd.DataFrame({'date_id': range(len(calendar)), 'date': calendar})\n",
    "\n",
    "# Export to CSV\n",
    "calendar.to_csv('calendar.csv', index=False)"
   ]
  },
  {
   "cell_type": "markdown",
   "id": "6e6b1cba",
   "metadata": {
    "papermill": {
     "duration": 0.010572,
     "end_time": "2024-03-23T22:15:03.460014",
     "exception": false,
     "start_time": "2024-03-23T22:15:03.449442",
     "status": "completed"
    },
    "tags": []
   },
   "source": [
    "# Create Dimension Tables"
   ]
  },
  {
   "cell_type": "code",
   "execution_count": 7,
   "id": "7e9413e9",
   "metadata": {
    "execution": {
     "iopub.execute_input": "2024-03-23T22:15:03.484840Z",
     "iopub.status.busy": "2024-03-23T22:15:03.484422Z",
     "iopub.status.idle": "2024-03-23T22:15:03.491490Z",
     "shell.execute_reply": "2024-03-23T22:15:03.490261Z"
    },
    "papermill": {
     "duration": 0.022443,
     "end_time": "2024-03-23T22:15:03.493962",
     "exception": false,
     "start_time": "2024-03-23T22:15:03.471519",
     "status": "completed"
    },
    "tags": []
   },
   "outputs": [],
   "source": [
    "def create_dim_table(data, col_id):\n",
    "    new_df = data.drop_duplicates()\n",
    "    new_df = new_df.reset_index(drop=True)\n",
    "    if isinstance(new_df, pd.Series):\n",
    "        new_df = new_df.to_frame()\n",
    "    new_df[col_id] = new_df.index\n",
    "    return new_df"
   ]
  },
  {
   "cell_type": "code",
   "execution_count": 8,
   "id": "7e3306af",
   "metadata": {
    "execution": {
     "iopub.execute_input": "2024-03-23T22:15:03.518805Z",
     "iopub.status.busy": "2024-03-23T22:15:03.518423Z",
     "iopub.status.idle": "2024-03-23T22:15:03.539493Z",
     "shell.execute_reply": "2024-03-23T22:15:03.538628Z"
    },
    "papermill": {
     "duration": 0.036293,
     "end_time": "2024-03-23T22:15:03.541550",
     "exception": false,
     "start_time": "2024-03-23T22:15:03.505257",
     "status": "completed"
    },
    "tags": []
   },
   "outputs": [
    {
     "data": {
      "text/html": [
       "<div>\n",
       "<style scoped>\n",
       "    .dataframe tbody tr th:only-of-type {\n",
       "        vertical-align: middle;\n",
       "    }\n",
       "\n",
       "    .dataframe tbody tr th {\n",
       "        vertical-align: top;\n",
       "    }\n",
       "\n",
       "    .dataframe thead th {\n",
       "        text-align: right;\n",
       "    }\n",
       "</style>\n",
       "<table border=\"1\" class=\"dataframe\">\n",
       "  <thead>\n",
       "    <tr style=\"text-align: right;\">\n",
       "      <th></th>\n",
       "      <th>ORDERNUMBER</th>\n",
       "      <th>QUANTITYORDERED</th>\n",
       "      <th>PRICEEACH</th>\n",
       "      <th>ORDERLINENUMBER</th>\n",
       "      <th>SALES</th>\n",
       "      <th>ORDERDATE</th>\n",
       "      <th>STATUS</th>\n",
       "      <th>CUSTOMERNAME</th>\n",
       "      <th>DEALSIZE</th>\n",
       "    </tr>\n",
       "  </thead>\n",
       "  <tbody>\n",
       "    <tr>\n",
       "      <th>0</th>\n",
       "      <td>10107</td>\n",
       "      <td>30</td>\n",
       "      <td>95.70</td>\n",
       "      <td>2</td>\n",
       "      <td>2871.00</td>\n",
       "      <td>2003-02-24</td>\n",
       "      <td>Shipped</td>\n",
       "      <td>Land of Toys Inc.</td>\n",
       "      <td>Small</td>\n",
       "    </tr>\n",
       "    <tr>\n",
       "      <th>1</th>\n",
       "      <td>10121</td>\n",
       "      <td>34</td>\n",
       "      <td>81.35</td>\n",
       "      <td>5</td>\n",
       "      <td>2765.90</td>\n",
       "      <td>2003-05-07</td>\n",
       "      <td>Shipped</td>\n",
       "      <td>Reims Collectables</td>\n",
       "      <td>Small</td>\n",
       "    </tr>\n",
       "    <tr>\n",
       "      <th>2</th>\n",
       "      <td>10134</td>\n",
       "      <td>41</td>\n",
       "      <td>94.74</td>\n",
       "      <td>2</td>\n",
       "      <td>3884.34</td>\n",
       "      <td>2003-07-01</td>\n",
       "      <td>Shipped</td>\n",
       "      <td>Lyon Souveniers</td>\n",
       "      <td>Medium</td>\n",
       "    </tr>\n",
       "    <tr>\n",
       "      <th>3</th>\n",
       "      <td>10145</td>\n",
       "      <td>45</td>\n",
       "      <td>83.26</td>\n",
       "      <td>6</td>\n",
       "      <td>3746.70</td>\n",
       "      <td>2003-08-25</td>\n",
       "      <td>Shipped</td>\n",
       "      <td>Toys4GrownUps.com</td>\n",
       "      <td>Medium</td>\n",
       "    </tr>\n",
       "    <tr>\n",
       "      <th>4</th>\n",
       "      <td>10159</td>\n",
       "      <td>49</td>\n",
       "      <td>100.00</td>\n",
       "      <td>14</td>\n",
       "      <td>5205.27</td>\n",
       "      <td>2003-10-10</td>\n",
       "      <td>Shipped</td>\n",
       "      <td>Corporate Gift Ideas Co.</td>\n",
       "      <td>Medium</td>\n",
       "    </tr>\n",
       "  </tbody>\n",
       "</table>\n",
       "</div>"
      ],
      "text/plain": [
       "   ORDERNUMBER  QUANTITYORDERED  PRICEEACH  ORDERLINENUMBER    SALES  \\\n",
       "0        10107               30      95.70                2  2871.00   \n",
       "1        10121               34      81.35                5  2765.90   \n",
       "2        10134               41      94.74                2  3884.34   \n",
       "3        10145               45      83.26                6  3746.70   \n",
       "4        10159               49     100.00               14  5205.27   \n",
       "\n",
       "   ORDERDATE   STATUS              CUSTOMERNAME DEALSIZE  \n",
       "0 2003-02-24  Shipped         Land of Toys Inc.    Small  \n",
       "1 2003-05-07  Shipped        Reims Collectables    Small  \n",
       "2 2003-07-01  Shipped           Lyon Souveniers   Medium  \n",
       "3 2003-08-25  Shipped         Toys4GrownUps.com   Medium  \n",
       "4 2003-10-10  Shipped  Corporate Gift Ideas Co.   Medium  "
      ]
     },
     "execution_count": 8,
     "metadata": {},
     "output_type": "execute_result"
    }
   ],
   "source": [
    "orders['ORDERDATE'] = pd.to_datetime(orders['ORDERDATE'])\n",
    "orders.head()"
   ]
  },
  {
   "cell_type": "code",
   "execution_count": 9,
   "id": "a6d85b8f",
   "metadata": {
    "execution": {
     "iopub.execute_input": "2024-03-23T22:15:03.567223Z",
     "iopub.status.busy": "2024-03-23T22:15:03.566830Z",
     "iopub.status.idle": "2024-03-23T22:15:03.578974Z",
     "shell.execute_reply": "2024-03-23T22:15:03.577969Z"
    },
    "papermill": {
     "duration": 0.027593,
     "end_time": "2024-03-23T22:15:03.581604",
     "exception": false,
     "start_time": "2024-03-23T22:15:03.554011",
     "status": "completed"
    },
    "tags": []
   },
   "outputs": [],
   "source": [
    "date = create_dim_table(data=date_info, col_id='date_id')\n",
    "product = create_dim_table(data=product_info, col_id='product_id')\n",
    "product_line = create_dim_table(data=product_info[\"PRODUCTLINE\"], col_id='productline_id')"
   ]
  },
  {
   "cell_type": "code",
   "execution_count": 10,
   "id": "42a70de5",
   "metadata": {
    "execution": {
     "iopub.execute_input": "2024-03-23T22:15:03.606711Z",
     "iopub.status.busy": "2024-03-23T22:15:03.606237Z",
     "iopub.status.idle": "2024-03-23T22:15:03.629507Z",
     "shell.execute_reply": "2024-03-23T22:15:03.628585Z"
    },
    "papermill": {
     "duration": 0.038828,
     "end_time": "2024-03-23T22:15:03.631929",
     "exception": false,
     "start_time": "2024-03-23T22:15:03.593101",
     "status": "completed"
    },
    "tags": []
   },
   "outputs": [
    {
     "data": {
      "text/html": [
       "<div>\n",
       "<style scoped>\n",
       "    .dataframe tbody tr th:only-of-type {\n",
       "        vertical-align: middle;\n",
       "    }\n",
       "\n",
       "    .dataframe tbody tr th {\n",
       "        vertical-align: top;\n",
       "    }\n",
       "\n",
       "    .dataframe thead th {\n",
       "        text-align: right;\n",
       "    }\n",
       "</style>\n",
       "<table border=\"1\" class=\"dataframe\">\n",
       "  <thead>\n",
       "    <tr style=\"text-align: right;\">\n",
       "      <th></th>\n",
       "      <th>CUSTOMERNAME</th>\n",
       "      <th>PHONE</th>\n",
       "      <th>ADDRESS</th>\n",
       "      <th>CONTACTLASTNAME</th>\n",
       "      <th>CONTACTFIRSTNAME</th>\n",
       "      <th>CITY</th>\n",
       "      <th>STATE</th>\n",
       "      <th>POSTALCODE</th>\n",
       "      <th>COUNTRY</th>\n",
       "      <th>TERRITORY</th>\n",
       "      <th>customer_id</th>\n",
       "    </tr>\n",
       "  </thead>\n",
       "  <tbody>\n",
       "    <tr>\n",
       "      <th>0</th>\n",
       "      <td>Land of Toys Inc.</td>\n",
       "      <td>2125557818</td>\n",
       "      <td>897 Long Airport Avenue</td>\n",
       "      <td>Yu</td>\n",
       "      <td>Kwai</td>\n",
       "      <td>NYC</td>\n",
       "      <td>NY</td>\n",
       "      <td>10022</td>\n",
       "      <td>USA</td>\n",
       "      <td>NaN</td>\n",
       "      <td>0</td>\n",
       "    </tr>\n",
       "    <tr>\n",
       "      <th>1</th>\n",
       "      <td>Reims Collectables</td>\n",
       "      <td>26.47.1555</td>\n",
       "      <td>59 rue de l'Abbaye</td>\n",
       "      <td>Henriot</td>\n",
       "      <td>Paul</td>\n",
       "      <td>Reims</td>\n",
       "      <td>NaN</td>\n",
       "      <td>51100</td>\n",
       "      <td>France</td>\n",
       "      <td>EMEA</td>\n",
       "      <td>1</td>\n",
       "    </tr>\n",
       "    <tr>\n",
       "      <th>2</th>\n",
       "      <td>Lyon Souveniers</td>\n",
       "      <td>+33 1 46 62 7555</td>\n",
       "      <td>27 rue du Colonel Pierre Avia</td>\n",
       "      <td>Da Cunha</td>\n",
       "      <td>Daniel</td>\n",
       "      <td>Paris</td>\n",
       "      <td>NaN</td>\n",
       "      <td>75508</td>\n",
       "      <td>France</td>\n",
       "      <td>EMEA</td>\n",
       "      <td>2</td>\n",
       "    </tr>\n",
       "    <tr>\n",
       "      <th>3</th>\n",
       "      <td>Toys4GrownUps.com</td>\n",
       "      <td>6265557265</td>\n",
       "      <td>78934 Hillside Dr.</td>\n",
       "      <td>Young</td>\n",
       "      <td>Julie</td>\n",
       "      <td>Pasadena</td>\n",
       "      <td>CA</td>\n",
       "      <td>90003</td>\n",
       "      <td>USA</td>\n",
       "      <td>NaN</td>\n",
       "      <td>3</td>\n",
       "    </tr>\n",
       "    <tr>\n",
       "      <th>4</th>\n",
       "      <td>Corporate Gift Ideas Co.</td>\n",
       "      <td>6505551386</td>\n",
       "      <td>7734 Strong St.</td>\n",
       "      <td>Brown</td>\n",
       "      <td>Julie</td>\n",
       "      <td>San Francisco</td>\n",
       "      <td>CA</td>\n",
       "      <td>NaN</td>\n",
       "      <td>USA</td>\n",
       "      <td>NaN</td>\n",
       "      <td>4</td>\n",
       "    </tr>\n",
       "  </tbody>\n",
       "</table>\n",
       "</div>"
      ],
      "text/plain": [
       "               CUSTOMERNAME             PHONE                        ADDRESS  \\\n",
       "0         Land of Toys Inc.        2125557818        897 Long Airport Avenue   \n",
       "1        Reims Collectables        26.47.1555             59 rue de l'Abbaye   \n",
       "2           Lyon Souveniers  +33 1 46 62 7555  27 rue du Colonel Pierre Avia   \n",
       "3         Toys4GrownUps.com        6265557265             78934 Hillside Dr.   \n",
       "4  Corporate Gift Ideas Co.        6505551386                7734 Strong St.   \n",
       "\n",
       "  CONTACTLASTNAME CONTACTFIRSTNAME           CITY STATE POSTALCODE COUNTRY  \\\n",
       "0              Yu             Kwai            NYC    NY      10022     USA   \n",
       "1         Henriot             Paul          Reims   NaN      51100  France   \n",
       "2        Da Cunha           Daniel          Paris   NaN      75508  France   \n",
       "3           Young            Julie       Pasadena    CA      90003     USA   \n",
       "4           Brown            Julie  San Francisco    CA        NaN     USA   \n",
       "\n",
       "  TERRITORY  customer_id  \n",
       "0       NaN            0  \n",
       "1      EMEA            1  \n",
       "2      EMEA            2  \n",
       "3       NaN            3  \n",
       "4       NaN            4  "
      ]
     },
     "execution_count": 10,
     "metadata": {},
     "output_type": "execute_result"
    }
   ],
   "source": [
    "customer = create_dim_table(data=customer_info, col_id=\"customer_id\")\n",
    "customer.head()"
   ]
  },
  {
   "cell_type": "code",
   "execution_count": 11,
   "id": "a3ee51fc",
   "metadata": {
    "execution": {
     "iopub.execute_input": "2024-03-23T22:15:03.658635Z",
     "iopub.status.busy": "2024-03-23T22:15:03.657773Z",
     "iopub.status.idle": "2024-03-23T22:15:03.674347Z",
     "shell.execute_reply": "2024-03-23T22:15:03.673081Z"
    },
    "papermill": {
     "duration": 0.03285,
     "end_time": "2024-03-23T22:15:03.677053",
     "exception": false,
     "start_time": "2024-03-23T22:15:03.644203",
     "status": "completed"
    },
    "tags": []
   },
   "outputs": [
    {
     "data": {
      "text/html": [
       "<div>\n",
       "<style scoped>\n",
       "    .dataframe tbody tr th:only-of-type {\n",
       "        vertical-align: middle;\n",
       "    }\n",
       "\n",
       "    .dataframe tbody tr th {\n",
       "        vertical-align: top;\n",
       "    }\n",
       "\n",
       "    .dataframe thead th {\n",
       "        text-align: right;\n",
       "    }\n",
       "</style>\n",
       "<table border=\"1\" class=\"dataframe\">\n",
       "  <thead>\n",
       "    <tr style=\"text-align: right;\">\n",
       "      <th></th>\n",
       "      <th>CITY</th>\n",
       "      <th>STATE</th>\n",
       "      <th>COUNTRY</th>\n",
       "      <th>TERRITORY</th>\n",
       "      <th>location_id</th>\n",
       "    </tr>\n",
       "  </thead>\n",
       "  <tbody>\n",
       "    <tr>\n",
       "      <th>0</th>\n",
       "      <td>NYC</td>\n",
       "      <td>NY</td>\n",
       "      <td>USA</td>\n",
       "      <td>NaN</td>\n",
       "      <td>0</td>\n",
       "    </tr>\n",
       "    <tr>\n",
       "      <th>1</th>\n",
       "      <td>Reims</td>\n",
       "      <td>NaN</td>\n",
       "      <td>France</td>\n",
       "      <td>EMEA</td>\n",
       "      <td>1</td>\n",
       "    </tr>\n",
       "    <tr>\n",
       "      <th>2</th>\n",
       "      <td>Paris</td>\n",
       "      <td>NaN</td>\n",
       "      <td>France</td>\n",
       "      <td>EMEA</td>\n",
       "      <td>2</td>\n",
       "    </tr>\n",
       "    <tr>\n",
       "      <th>3</th>\n",
       "      <td>Pasadena</td>\n",
       "      <td>CA</td>\n",
       "      <td>USA</td>\n",
       "      <td>NaN</td>\n",
       "      <td>3</td>\n",
       "    </tr>\n",
       "    <tr>\n",
       "      <th>4</th>\n",
       "      <td>San Francisco</td>\n",
       "      <td>CA</td>\n",
       "      <td>USA</td>\n",
       "      <td>NaN</td>\n",
       "      <td>4</td>\n",
       "    </tr>\n",
       "  </tbody>\n",
       "</table>\n",
       "</div>"
      ],
      "text/plain": [
       "            CITY STATE COUNTRY TERRITORY  location_id\n",
       "0            NYC    NY     USA       NaN            0\n",
       "1          Reims   NaN  France      EMEA            1\n",
       "2          Paris   NaN  France      EMEA            2\n",
       "3       Pasadena    CA     USA       NaN            3\n",
       "4  San Francisco    CA     USA       NaN            4"
      ]
     },
     "execution_count": 11,
     "metadata": {},
     "output_type": "execute_result"
    }
   ],
   "source": [
    "location = create_dim_table(data=customer[['CITY', 'STATE', 'COUNTRY', 'TERRITORY']], col_id='location_id')\n",
    "location.head()"
   ]
  },
  {
   "cell_type": "code",
   "execution_count": 12,
   "id": "b3ea0952",
   "metadata": {
    "execution": {
     "iopub.execute_input": "2024-03-23T22:15:03.703690Z",
     "iopub.status.busy": "2024-03-23T22:15:03.703235Z",
     "iopub.status.idle": "2024-03-23T22:15:03.714531Z",
     "shell.execute_reply": "2024-03-23T22:15:03.713023Z"
    },
    "papermill": {
     "duration": 0.028159,
     "end_time": "2024-03-23T22:15:03.717282",
     "exception": false,
     "start_time": "2024-03-23T22:15:03.689123",
     "status": "completed"
    },
    "tags": []
   },
   "outputs": [],
   "source": [
    "city = create_dim_table(data=location['CITY'],col_id='city_id')\n",
    "state = create_dim_table(data=location['STATE'], col_id='state_id')\n",
    "territory = create_dim_table(data=location['TERRITORY'], col_id='territory_id')\n",
    "country = create_dim_table(data=location['COUNTRY'], col_id='country_id')"
   ]
  },
  {
   "cell_type": "code",
   "execution_count": 13,
   "id": "de10a244",
   "metadata": {
    "execution": {
     "iopub.execute_input": "2024-03-23T22:15:03.744638Z",
     "iopub.status.busy": "2024-03-23T22:15:03.743837Z",
     "iopub.status.idle": "2024-03-23T22:15:03.751795Z",
     "shell.execute_reply": "2024-03-23T22:15:03.750695Z"
    },
    "papermill": {
     "duration": 0.025096,
     "end_time": "2024-03-23T22:15:03.754344",
     "exception": false,
     "start_time": "2024-03-23T22:15:03.729248",
     "status": "completed"
    },
    "tags": []
   },
   "outputs": [],
   "source": [
    "product['productline_id'] = product['PRODUCTLINE'].map(product_line.set_index('PRODUCTLINE')['productline_id'])"
   ]
  },
  {
   "cell_type": "code",
   "execution_count": 14,
   "id": "4b5b8b37",
   "metadata": {
    "execution": {
     "iopub.execute_input": "2024-03-23T22:15:03.780304Z",
     "iopub.status.busy": "2024-03-23T22:15:03.779903Z",
     "iopub.status.idle": "2024-03-23T22:15:03.795907Z",
     "shell.execute_reply": "2024-03-23T22:15:03.794544Z"
    },
    "papermill": {
     "duration": 0.032137,
     "end_time": "2024-03-23T22:15:03.798318",
     "exception": false,
     "start_time": "2024-03-23T22:15:03.766181",
     "status": "completed"
    },
    "tags": []
   },
   "outputs": [],
   "source": [
    "customer['city_id'] = df['CITY'].map(city.set_index('CITY')['city_id'])\n",
    "customer['state_id'] = df['STATE'].map(state.set_index('STATE')['state_id'])\n",
    "customer['territory_id'] = df['TERRITORY'].map(territory.set_index('TERRITORY')['territory_id'])\n",
    "customer['country_id'] = df['COUNTRY'].map(country.set_index('COUNTRY')['country_id'])"
   ]
  },
  {
   "cell_type": "code",
   "execution_count": 15,
   "id": "e7956387",
   "metadata": {
    "execution": {
     "iopub.execute_input": "2024-03-23T22:15:03.825126Z",
     "iopub.status.busy": "2024-03-23T22:15:03.824338Z",
     "iopub.status.idle": "2024-03-23T22:15:03.838902Z",
     "shell.execute_reply": "2024-03-23T22:15:03.837685Z"
    },
    "papermill": {
     "duration": 0.030825,
     "end_time": "2024-03-23T22:15:03.841649",
     "exception": false,
     "start_time": "2024-03-23T22:15:03.810824",
     "status": "completed"
    },
    "tags": []
   },
   "outputs": [],
   "source": [
    "location['city_id'] = df['CITY'].map(city.set_index('CITY')['city_id'])\n",
    "location['state_id'] = df['STATE'].map(state.set_index('STATE')['state_id'])\n",
    "location['territory_id'] = df['TERRITORY'].map(territory.set_index('TERRITORY')['territory_id'])\n",
    "location['country_id'] = df['COUNTRY'].map(country.set_index('COUNTRY')['country_id'])"
   ]
  },
  {
   "cell_type": "code",
   "execution_count": 16,
   "id": "c46897ab",
   "metadata": {
    "execution": {
     "iopub.execute_input": "2024-03-23T22:15:03.866977Z",
     "iopub.status.busy": "2024-03-23T22:15:03.866561Z",
     "iopub.status.idle": "2024-03-23T22:15:03.879964Z",
     "shell.execute_reply": "2024-03-23T22:15:03.878618Z"
    },
    "papermill": {
     "duration": 0.029339,
     "end_time": "2024-03-23T22:15:03.882796",
     "exception": false,
     "start_time": "2024-03-23T22:15:03.853457",
     "status": "completed"
    },
    "tags": []
   },
   "outputs": [
    {
     "data": {
      "text/html": [
       "<div>\n",
       "<style scoped>\n",
       "    .dataframe tbody tr th:only-of-type {\n",
       "        vertical-align: middle;\n",
       "    }\n",
       "\n",
       "    .dataframe tbody tr th {\n",
       "        vertical-align: top;\n",
       "    }\n",
       "\n",
       "    .dataframe thead th {\n",
       "        text-align: right;\n",
       "    }\n",
       "</style>\n",
       "<table border=\"1\" class=\"dataframe\">\n",
       "  <thead>\n",
       "    <tr style=\"text-align: right;\">\n",
       "      <th></th>\n",
       "      <th>STATUS</th>\n",
       "      <th>status_id</th>\n",
       "    </tr>\n",
       "  </thead>\n",
       "  <tbody>\n",
       "    <tr>\n",
       "      <th>0</th>\n",
       "      <td>Shipped</td>\n",
       "      <td>0</td>\n",
       "    </tr>\n",
       "    <tr>\n",
       "      <th>1</th>\n",
       "      <td>Disputed</td>\n",
       "      <td>1</td>\n",
       "    </tr>\n",
       "    <tr>\n",
       "      <th>2</th>\n",
       "      <td>In Process</td>\n",
       "      <td>2</td>\n",
       "    </tr>\n",
       "    <tr>\n",
       "      <th>3</th>\n",
       "      <td>Cancelled</td>\n",
       "      <td>3</td>\n",
       "    </tr>\n",
       "    <tr>\n",
       "      <th>4</th>\n",
       "      <td>On Hold</td>\n",
       "      <td>4</td>\n",
       "    </tr>\n",
       "  </tbody>\n",
       "</table>\n",
       "</div>"
      ],
      "text/plain": [
       "       STATUS  status_id\n",
       "0     Shipped          0\n",
       "1    Disputed          1\n",
       "2  In Process          2\n",
       "3   Cancelled          3\n",
       "4     On Hold          4"
      ]
     },
     "execution_count": 16,
     "metadata": {},
     "output_type": "execute_result"
    }
   ],
   "source": [
    "order_status = create_dim_table(data=df['STATUS'], col_id='status_id')\n",
    "order_status.head()"
   ]
  },
  {
   "cell_type": "code",
   "execution_count": 17,
   "id": "1980208c",
   "metadata": {
    "execution": {
     "iopub.execute_input": "2024-03-23T22:15:03.909253Z",
     "iopub.status.busy": "2024-03-23T22:15:03.908466Z",
     "iopub.status.idle": "2024-03-23T22:15:03.920212Z",
     "shell.execute_reply": "2024-03-23T22:15:03.919066Z"
    },
    "papermill": {
     "duration": 0.027857,
     "end_time": "2024-03-23T22:15:03.922648",
     "exception": false,
     "start_time": "2024-03-23T22:15:03.894791",
     "status": "completed"
    },
    "tags": []
   },
   "outputs": [
    {
     "data": {
      "text/html": [
       "<div>\n",
       "<style scoped>\n",
       "    .dataframe tbody tr th:only-of-type {\n",
       "        vertical-align: middle;\n",
       "    }\n",
       "\n",
       "    .dataframe tbody tr th {\n",
       "        vertical-align: top;\n",
       "    }\n",
       "\n",
       "    .dataframe thead th {\n",
       "        text-align: right;\n",
       "    }\n",
       "</style>\n",
       "<table border=\"1\" class=\"dataframe\">\n",
       "  <thead>\n",
       "    <tr style=\"text-align: right;\">\n",
       "      <th></th>\n",
       "      <th>DEALSIZE</th>\n",
       "      <th>size_id</th>\n",
       "    </tr>\n",
       "  </thead>\n",
       "  <tbody>\n",
       "    <tr>\n",
       "      <th>0</th>\n",
       "      <td>Small</td>\n",
       "      <td>0</td>\n",
       "    </tr>\n",
       "    <tr>\n",
       "      <th>1</th>\n",
       "      <td>Medium</td>\n",
       "      <td>1</td>\n",
       "    </tr>\n",
       "    <tr>\n",
       "      <th>2</th>\n",
       "      <td>Large</td>\n",
       "      <td>2</td>\n",
       "    </tr>\n",
       "  </tbody>\n",
       "</table>\n",
       "</div>"
      ],
      "text/plain": [
       "  DEALSIZE  size_id\n",
       "0    Small        0\n",
       "1   Medium        1\n",
       "2    Large        2"
      ]
     },
     "execution_count": 17,
     "metadata": {},
     "output_type": "execute_result"
    }
   ],
   "source": [
    "order_size = create_dim_table(data=df['DEALSIZE'], col_id='size_id')\n",
    "order_size.head()"
   ]
  },
  {
   "cell_type": "markdown",
   "id": "642b60dd",
   "metadata": {
    "papermill": {
     "duration": 0.011721,
     "end_time": "2024-03-23T22:15:03.946587",
     "exception": false,
     "start_time": "2024-03-23T22:15:03.934866",
     "status": "completed"
    },
    "tags": []
   },
   "source": [
    "### Remove Redundant Columns"
   ]
  },
  {
   "cell_type": "code",
   "execution_count": 18,
   "id": "2529a704",
   "metadata": {
    "execution": {
     "iopub.execute_input": "2024-03-23T22:15:03.973331Z",
     "iopub.status.busy": "2024-03-23T22:15:03.972513Z",
     "iopub.status.idle": "2024-03-23T22:15:03.992160Z",
     "shell.execute_reply": "2024-03-23T22:15:03.990952Z"
    },
    "papermill": {
     "duration": 0.036114,
     "end_time": "2024-03-23T22:15:03.994748",
     "exception": false,
     "start_time": "2024-03-23T22:15:03.958634",
     "status": "completed"
    },
    "tags": []
   },
   "outputs": [
    {
     "data": {
      "text/html": [
       "<div>\n",
       "<style scoped>\n",
       "    .dataframe tbody tr th:only-of-type {\n",
       "        vertical-align: middle;\n",
       "    }\n",
       "\n",
       "    .dataframe tbody tr th {\n",
       "        vertical-align: top;\n",
       "    }\n",
       "\n",
       "    .dataframe thead th {\n",
       "        text-align: right;\n",
       "    }\n",
       "</style>\n",
       "<table border=\"1\" class=\"dataframe\">\n",
       "  <thead>\n",
       "    <tr style=\"text-align: right;\">\n",
       "      <th></th>\n",
       "      <th>CUSTOMERNAME</th>\n",
       "      <th>PHONE</th>\n",
       "      <th>ADDRESS</th>\n",
       "      <th>CONTACTLASTNAME</th>\n",
       "      <th>CONTACTFIRSTNAME</th>\n",
       "      <th>POSTALCODE</th>\n",
       "      <th>customer_id</th>\n",
       "      <th>city_id</th>\n",
       "      <th>state_id</th>\n",
       "      <th>territory_id</th>\n",
       "      <th>country_id</th>\n",
       "    </tr>\n",
       "  </thead>\n",
       "  <tbody>\n",
       "    <tr>\n",
       "      <th>0</th>\n",
       "      <td>Land of Toys Inc.</td>\n",
       "      <td>2125557818</td>\n",
       "      <td>897 Long Airport Avenue</td>\n",
       "      <td>Yu</td>\n",
       "      <td>Kwai</td>\n",
       "      <td>10022</td>\n",
       "      <td>0</td>\n",
       "      <td>0</td>\n",
       "      <td>0</td>\n",
       "      <td>0</td>\n",
       "      <td>0</td>\n",
       "    </tr>\n",
       "    <tr>\n",
       "      <th>1</th>\n",
       "      <td>Reims Collectables</td>\n",
       "      <td>26.47.1555</td>\n",
       "      <td>59 rue de l'Abbaye</td>\n",
       "      <td>Henriot</td>\n",
       "      <td>Paul</td>\n",
       "      <td>51100</td>\n",
       "      <td>1</td>\n",
       "      <td>1</td>\n",
       "      <td>1</td>\n",
       "      <td>1</td>\n",
       "      <td>1</td>\n",
       "    </tr>\n",
       "    <tr>\n",
       "      <th>2</th>\n",
       "      <td>Lyon Souveniers</td>\n",
       "      <td>+33 1 46 62 7555</td>\n",
       "      <td>27 rue du Colonel Pierre Avia</td>\n",
       "      <td>Da Cunha</td>\n",
       "      <td>Daniel</td>\n",
       "      <td>75508</td>\n",
       "      <td>2</td>\n",
       "      <td>2</td>\n",
       "      <td>1</td>\n",
       "      <td>1</td>\n",
       "      <td>1</td>\n",
       "    </tr>\n",
       "    <tr>\n",
       "      <th>3</th>\n",
       "      <td>Toys4GrownUps.com</td>\n",
       "      <td>6265557265</td>\n",
       "      <td>78934 Hillside Dr.</td>\n",
       "      <td>Young</td>\n",
       "      <td>Julie</td>\n",
       "      <td>90003</td>\n",
       "      <td>3</td>\n",
       "      <td>3</td>\n",
       "      <td>2</td>\n",
       "      <td>0</td>\n",
       "      <td>0</td>\n",
       "    </tr>\n",
       "    <tr>\n",
       "      <th>4</th>\n",
       "      <td>Corporate Gift Ideas Co.</td>\n",
       "      <td>6505551386</td>\n",
       "      <td>7734 Strong St.</td>\n",
       "      <td>Brown</td>\n",
       "      <td>Julie</td>\n",
       "      <td>NaN</td>\n",
       "      <td>4</td>\n",
       "      <td>4</td>\n",
       "      <td>2</td>\n",
       "      <td>0</td>\n",
       "      <td>0</td>\n",
       "    </tr>\n",
       "  </tbody>\n",
       "</table>\n",
       "</div>"
      ],
      "text/plain": [
       "               CUSTOMERNAME             PHONE                        ADDRESS  \\\n",
       "0         Land of Toys Inc.        2125557818        897 Long Airport Avenue   \n",
       "1        Reims Collectables        26.47.1555             59 rue de l'Abbaye   \n",
       "2           Lyon Souveniers  +33 1 46 62 7555  27 rue du Colonel Pierre Avia   \n",
       "3         Toys4GrownUps.com        6265557265             78934 Hillside Dr.   \n",
       "4  Corporate Gift Ideas Co.        6505551386                7734 Strong St.   \n",
       "\n",
       "  CONTACTLASTNAME CONTACTFIRSTNAME POSTALCODE  customer_id  city_id  state_id  \\\n",
       "0              Yu             Kwai      10022            0        0         0   \n",
       "1         Henriot             Paul      51100            1        1         1   \n",
       "2        Da Cunha           Daniel      75508            2        2         1   \n",
       "3           Young            Julie      90003            3        3         2   \n",
       "4           Brown            Julie        NaN            4        4         2   \n",
       "\n",
       "   territory_id  country_id  \n",
       "0             0           0  \n",
       "1             1           1  \n",
       "2             1           1  \n",
       "3             0           0  \n",
       "4             0           0  "
      ]
     },
     "execution_count": 18,
     "metadata": {},
     "output_type": "execute_result"
    }
   ],
   "source": [
    "product = product.drop('PRODUCTLINE', axis=1)\n",
    "product.head()\n",
    "location = location.drop(['CITY','STATE','COUNTRY','TERRITORY'], axis=1, errors='ignore')\n",
    "location.head()\n",
    "customer = customer.drop(['CITY','STATE','COUNTRY','TERRITORY'], axis=1,errors='ignore')\n",
    "customer.head()"
   ]
  },
  {
   "cell_type": "markdown",
   "id": "211627ed",
   "metadata": {
    "papermill": {
     "duration": 0.01216,
     "end_time": "2024-03-23T22:15:04.019348",
     "exception": false,
     "start_time": "2024-03-23T22:15:04.007188",
     "status": "completed"
    },
    "tags": []
   },
   "source": [
    "# Create Fact Table"
   ]
  },
  {
   "cell_type": "code",
   "execution_count": 19,
   "id": "9101858d",
   "metadata": {
    "execution": {
     "iopub.execute_input": "2024-03-23T22:15:04.047347Z",
     "iopub.status.busy": "2024-03-23T22:15:04.046902Z",
     "iopub.status.idle": "2024-03-23T22:15:04.067329Z",
     "shell.execute_reply": "2024-03-23T22:15:04.066089Z"
    },
    "papermill": {
     "duration": 0.038152,
     "end_time": "2024-03-23T22:15:04.070111",
     "exception": false,
     "start_time": "2024-03-23T22:15:04.031959",
     "status": "completed"
    },
    "tags": []
   },
   "outputs": [],
   "source": [
    "orders['date_id'] = df['ORDERDATE'].map(calendar.set_index('date')['date_id'])\n",
    "\n",
    "orders['product_id'] = df['PRODUCTCODE'].map(product.set_index('PRODUCTCODE')['product_id'])\n",
    "\n",
    "orders['customer_id'] = df['CUSTOMERNAME'].map(customer.set_index('CUSTOMERNAME')['customer_id'])\n",
    "\n",
    "orders['status_id'] = df['STATUS'].map(order_status.set_index('STATUS')['status_id'])\n",
    "\n",
    "orders['size_id'] = df['DEALSIZE'].map(order_size.set_index('DEALSIZE')['size_id'])"
   ]
  },
  {
   "cell_type": "code",
   "execution_count": 20,
   "id": "b7ef576a",
   "metadata": {
    "execution": {
     "iopub.execute_input": "2024-03-23T22:15:04.097936Z",
     "iopub.status.busy": "2024-03-23T22:15:04.097526Z",
     "iopub.status.idle": "2024-03-23T22:15:04.103716Z",
     "shell.execute_reply": "2024-03-23T22:15:04.102823Z"
    },
    "papermill": {
     "duration": 0.02301,
     "end_time": "2024-03-23T22:15:04.106075",
     "exception": false,
     "start_time": "2024-03-23T22:15:04.083065",
     "status": "completed"
    },
    "tags": []
   },
   "outputs": [],
   "source": [
    "orders = orders.drop(['ORDERDATE','CUSTOMERNAME','STATUS','DEALSIZE'], axis=1, errors='ignore')"
   ]
  },
  {
   "cell_type": "markdown",
   "id": "a169d795",
   "metadata": {
    "papermill": {
     "duration": 0.012265,
     "end_time": "2024-03-23T22:15:04.130848",
     "exception": false,
     "start_time": "2024-03-23T22:15:04.118583",
     "status": "completed"
    },
    "tags": []
   },
   "source": [
    "# Export to CSV"
   ]
  },
  {
   "cell_type": "code",
   "execution_count": 21,
   "id": "38a64a7e",
   "metadata": {
    "execution": {
     "iopub.execute_input": "2024-03-23T22:15:04.158205Z",
     "iopub.status.busy": "2024-03-23T22:15:04.156978Z",
     "iopub.status.idle": "2024-03-23T22:15:04.162126Z",
     "shell.execute_reply": "2024-03-23T22:15:04.161359Z"
    },
    "papermill": {
     "duration": 0.021149,
     "end_time": "2024-03-23T22:15:04.164508",
     "exception": false,
     "start_time": "2024-03-23T22:15:04.143359",
     "status": "completed"
    },
    "tags": []
   },
   "outputs": [],
   "source": [
    "def save_to_csv(data, filename):\n",
    "    data.to_csv(filename, header=True, index=None)"
   ]
  },
  {
   "cell_type": "code",
   "execution_count": 22,
   "id": "1f83853a",
   "metadata": {
    "execution": {
     "iopub.execute_input": "2024-03-23T22:15:04.191995Z",
     "iopub.status.busy": "2024-03-23T22:15:04.191312Z",
     "iopub.status.idle": "2024-03-23T22:15:04.225448Z",
     "shell.execute_reply": "2024-03-23T22:15:04.224375Z"
    },
    "papermill": {
     "duration": 0.051274,
     "end_time": "2024-03-23T22:15:04.228271",
     "exception": false,
     "start_time": "2024-03-23T22:15:04.176997",
     "status": "completed"
    },
    "tags": []
   },
   "outputs": [],
   "source": [
    "save_to_csv(data=orders,filename='orders.csv')\n",
    "save_to_csv(data=customer,filename='customer.csv')\n",
    "save_to_csv(data=product,filename='product.csv')\n",
    "save_to_csv(data=product_line,filename='product_line.csv')\n",
    "save_to_csv(data=order_status,filename='order_status.csv')\n",
    "save_to_csv(data=order_size,filename='order_size.csv')\n",
    "save_to_csv(data=city,filename='city.csv')\n",
    "save_to_csv(data=country,filename='country.csv')\n",
    "save_to_csv(data=territory,filename='territory.csv')\n",
    "save_to_csv(data=state,filename='state.csv')\n"
   ]
  },
  {
   "cell_type": "code",
   "execution_count": 23,
   "id": "d032cc16",
   "metadata": {
    "execution": {
     "iopub.execute_input": "2024-03-23T22:15:04.256158Z",
     "iopub.status.busy": "2024-03-23T22:15:04.255453Z",
     "iopub.status.idle": "2024-03-23T22:15:04.262886Z",
     "shell.execute_reply": "2024-03-23T22:15:04.261726Z"
    },
    "papermill": {
     "duration": 0.024106,
     "end_time": "2024-03-23T22:15:04.265598",
     "exception": false,
     "start_time": "2024-03-23T22:15:04.241492",
     "status": "completed"
    },
    "tags": []
   },
   "outputs": [],
   "source": [
    "save_to_csv(data=date, filename='date.csv')"
   ]
  },
  {
   "cell_type": "markdown",
   "id": "886cfc9f",
   "metadata": {
    "papermill": {
     "duration": 0.012343,
     "end_time": "2024-03-23T22:15:04.290834",
     "exception": false,
     "start_time": "2024-03-23T22:15:04.278491",
     "status": "completed"
    },
    "tags": []
   },
   "source": [
    "# Export to Postgres"
   ]
  },
  {
   "cell_type": "code",
   "execution_count": 24,
   "id": "15ba5da4",
   "metadata": {
    "execution": {
     "iopub.execute_input": "2024-03-23T22:15:04.318304Z",
     "iopub.status.busy": "2024-03-23T22:15:04.317862Z",
     "iopub.status.idle": "2024-03-23T22:15:04.322736Z",
     "shell.execute_reply": "2024-03-23T22:15:04.321520Z"
    },
    "papermill": {
     "duration": 0.021352,
     "end_time": "2024-03-23T22:15:04.325082",
     "exception": false,
     "start_time": "2024-03-23T22:15:04.303730",
     "status": "completed"
    },
    "tags": []
   },
   "outputs": [],
   "source": [
    "# from sqlalchemy import create_engine\n",
    "\n",
    "# # Connect to PostgreSQL database\n",
    "# username = 'postgres'\n",
    "# password = 'sqlpassword'\n",
    "# hostname = 'localhost'\n",
    "# port = 5432\n",
    "# database_name = 'sales_data'\n",
    "# connection_str = f'postgresql://{username}:{password}@{hostname}:{port}/{database_name}'\n",
    "# engine = create_engine(connection_str)"
   ]
  },
  {
   "cell_type": "code",
   "execution_count": 25,
   "id": "b01431d6",
   "metadata": {
    "execution": {
     "iopub.execute_input": "2024-03-23T22:15:04.352644Z",
     "iopub.status.busy": "2024-03-23T22:15:04.352188Z",
     "iopub.status.idle": "2024-03-23T22:15:04.357615Z",
     "shell.execute_reply": "2024-03-23T22:15:04.356311Z"
    },
    "papermill": {
     "duration": 0.022064,
     "end_time": "2024-03-23T22:15:04.360212",
     "exception": false,
     "start_time": "2024-03-23T22:15:04.338148",
     "status": "completed"
    },
    "tags": []
   },
   "outputs": [],
   "source": [
    "# orders.to_sql('orders', engine, if_exists='replace', index=False)\n",
    "# customer.to_sql('customer', engine, if_exists='replace', index=False)\n",
    "# product.to_sql('product', engine, if_exists='replace', index=False)\n",
    "# product_line.to_sql('product_line', engine, if_exists='replace', index=False)\n",
    "# order_status.to_sql('order_status', engine, if_exists='replace', index=False)\n",
    "# order_size.to_sql('order_size', engine, if_exists='replace', index=False)\n",
    "# city.to_sql('city', engine, if_exists='replace', index=False)\n",
    "# country.to_sql('country', engine, if_exists='replace', index=False)\n",
    "# territory.to_sql('territory', engine, if_exists='replace', index=False)\n",
    "# state.to_sql('state', engine, if_exists='replace', index=False)"
   ]
  },
  {
   "cell_type": "code",
   "execution_count": null,
   "id": "0baef16f",
   "metadata": {
    "execution": {
     "iopub.status.busy": "2024-03-19T15:37:51.003718Z",
     "iopub.status.idle": "2024-03-19T15:37:51.004342Z",
     "shell.execute_reply": "2024-03-19T15:37:51.004089Z",
     "shell.execute_reply.started": "2024-03-19T15:37:51.004066Z"
    },
    "papermill": {
     "duration": 0.012183,
     "end_time": "2024-03-23T22:15:04.385272",
     "exception": false,
     "start_time": "2024-03-23T22:15:04.373089",
     "status": "completed"
    },
    "tags": []
   },
   "outputs": [],
   "source": []
  },
  {
   "cell_type": "code",
   "execution_count": null,
   "id": "263f2196",
   "metadata": {
    "execution": {
     "iopub.status.busy": "2024-03-19T15:37:51.006742Z",
     "iopub.status.idle": "2024-03-19T15:37:51.007661Z",
     "shell.execute_reply": "2024-03-19T15:37:51.007259Z",
     "shell.execute_reply.started": "2024-03-19T15:37:51.007227Z"
    },
    "papermill": {
     "duration": 0.012837,
     "end_time": "2024-03-23T22:15:04.411499",
     "exception": false,
     "start_time": "2024-03-23T22:15:04.398662",
     "status": "completed"
    },
    "tags": []
   },
   "outputs": [],
   "source": []
  }
 ],
 "metadata": {
  "kaggle": {
   "accelerator": "none",
   "dataSources": [
    {
     "datasetId": 435,
     "sourceId": 896,
     "sourceType": "datasetVersion"
    }
   ],
   "dockerImageVersionId": 30664,
   "isGpuEnabled": false,
   "isInternetEnabled": false,
   "language": "python",
   "sourceType": "notebook"
  },
  "kernelspec": {
   "display_name": "Python 3",
   "language": "python",
   "name": "python3"
  },
  "language_info": {
   "codemirror_mode": {
    "name": "ipython",
    "version": 3
   },
   "file_extension": ".py",
   "mimetype": "text/x-python",
   "name": "python",
   "nbconvert_exporter": "python",
   "pygments_lexer": "ipython3",
   "version": "3.10.13"
  },
  "papermill": {
   "default_parameters": {},
   "duration": 6.086219,
   "end_time": "2024-03-23T22:15:04.946379",
   "environment_variables": {},
   "exception": null,
   "input_path": "__notebook__.ipynb",
   "output_path": "__notebook__.ipynb",
   "parameters": {},
   "start_time": "2024-03-23T22:14:58.860160",
   "version": "2.5.0"
  }
 },
 "nbformat": 4,
 "nbformat_minor": 5
}
